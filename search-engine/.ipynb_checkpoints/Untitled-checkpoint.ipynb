{
 "cells": [
  {
   "cell_type": "code",
   "execution_count": 1,
   "metadata": {},
   "outputs": [
    {
     "name": "stderr",
     "output_type": "stream",
     "text": [
      "[nltk_data] Downloading package stopwords to /home/marcel/nltk_data...\n",
      "[nltk_data]   Package stopwords is already up-to-date!\n"
     ]
    },
    {
     "name": "stdout",
     "output_type": "stream",
     "text": [
      "\n",
      "======================\n",
      "Loading dataset...\n",
      "\n",
      "======================\n",
      "Preprocessing dataset...\n",
      "Total time to preprocess dataset of 100100 tweets: 52.86 seconds.\n",
      "\n",
      "======================\n",
      "Creating index...\n",
      "10001 tweets have been indexed in  2.21 seconds.\n",
      "20001 tweets have been indexed in  4.29 seconds.\n",
      "30001 tweets have been indexed in  6.38 seconds.\n",
      "40001 tweets have been indexed in  8.47 seconds.\n",
      "50001 tweets have been indexed in  10.55 seconds.\n",
      "60001 tweets have been indexed in  12.65 seconds.\n",
      "70001 tweets have been indexed in  14.73 seconds.\n",
      "80001 tweets have been indexed in  16.82 seconds.\n",
      "90001 tweets have been indexed in  18.91 seconds.\n",
      "100001 tweets have been indexed in  20.99 seconds.\n",
      "Creating df and idf...\n",
      "Total time to create the index: 21.55 seconds.\n",
      "\n",
      "Insert your query:\n",
      "\n",
      "covid\n",
      "\n",
      "======================\n",
      "Sample of 20 results out of 20304 for the searched query:\n",
      "\n",
      "                                                                                                                                                                                                text                                  user                            date hashtags  likes  retweets                                                   url\n",
      "0   RT @c500f6b6-cec5-576b-98d0-6714c6f533ea: My dad died today in a nursing home. \\n\\nHe was tested for Covid 3 times over the last 3 weeks. \\n\\nHe was negative every tim…                          eb71fc65-45e0-55de-ad32-c7f8bc4a950b  Sat Nov 21 15:19:49 +0000 2020  []       0      0         https://twitter.com/i/web/status/1330169050870280194\n",
      "1   RT @bfec9ae2-b68c-5600-bdbc-3680c58d1cde: Shouldn’t you talk to Covid warriors/doctors who haven’t been paid salaries for months instead of random Babas, @1f498fcb-b1ba-59b2-9a75-7b11ee1b080b…  315a0221-b1b5-5805-80e8-b3f38986cfe4  Sat Nov 21 15:19:49 +0000 2020  []       0      0         https://twitter.com/i/web/status/1330169051612672003\n",
      "2   RT @5fb47ea9-8565-5490-9e7e-70fbacafc432: Reminder: a COVID relief bill has been sitting on Mitch McConnell’s desk for 50 days while millions struggle to keep foo…                               3875f385-0b25-5b1c-9b17-d85f8a43f094  Sat Nov 21 15:19:49 +0000 2020  []       0      0         https://twitter.com/i/web/status/1330169051935617025\n",
      "3   COVID Update \\n\\n18 new cases today. \\n\\nTotal cases of Jorhat: 11909\\nTotal discharged: 11484\\nActive cases : 298\\nMigrat… https://t.co/F9ZWi3yI2s                                               e4181d34-fad2-5c2c-a487-43e9dbed7581  Sat Nov 21 15:19:50 +0000 2020  []       0      0         https://twitter.com/i/web/status/1330169052313096196\n",
      "4   RT @5b01c8bf-f414-51fe-a9c0-c9c47ad04a8d: It’s the weekend.\\n\\nIf the pointless COVID restrictions haven’t made you unemployed/poor then please go out and enjoy you…                             5ba3ab32-48fe-585a-b26a-9df1f6bc4ec3  Sat Nov 21 15:19:50 +0000 2020  []       0      0         https://twitter.com/i/web/status/1330169053403635714\n",
      "5   RT @c500f6b6-cec5-576b-98d0-6714c6f533ea: My dad died today in a nursing home. \\n\\nHe was tested for Covid 3 times over the last 3 weeks. \\n\\nHe was negative every tim…                          bbcc936e-6c6a-56f5-bc38-c2393e28d151  Sat Nov 21 15:19:50 +0000 2020  []       0      0         https://twitter.com/i/web/status/1330169054670311433\n",
      "6   @7d7b31d0-8d9a-556b-ba47-5fabf01da34c HHHHHHHUUUUUUUUUUUUUUUUUUUUUUUUUUUUUUUUUUUUUUUUHHHHHHHHHHHHHHHHHHHHHHHHHHHH\\n\\ncovid left d chat                                                            5656a479-214b-56f4-a00a-df9e9f53a78b  Sat Nov 21 15:19:50 +0000 2020  []       0      0         https://twitter.com/i/web/status/1330169054737346566\n",
      "7   @946d6ddd-79c2-58a4-bef4-04ecd7a4e01a So no dems get covid 19 amazing lol what a Joke                                                                                                             f6f17e9e-aed0-56d5-a1e5-454679249722  Sat Nov 21 15:19:50 +0000 2020  []       0      0         https://twitter.com/i/web/status/1330169054854787075\n",
      "8   RT @5e4b596b-c27d-5b63-b0cf-578ad73ec938: Two months ago exactly, SAGE called for a brief national circuit breaker to bring Covid under control.\\n\\nThen there were…                              5d6201b0-0ed6-5984-a286-7971d597f99b  Sat Nov 21 15:19:50 +0000 2020  []       0      0         https://twitter.com/i/web/status/1330169054800252931\n",
      "9   RT @7f9586bf-7c5f-5a33-80c2-d8e7a44c9877: Welp I guess we’re about to find out if cocaine cures COVID.                                                                                            a56dc64f-0f6b-5bf0-b495-d7bc1dbe004b  Sat Nov 21 15:19:50 +0000 2020  []       0      0         https://twitter.com/i/web/status/1330169055915945987\n",
      "10  RT @a57ad584-4a5e-50f8-bc98-cea4595e6a32: the COVID vaccine shouldn’t be free. It should inspire me to grind harder                                                                               21c722e4-ba4f-563d-8c90-4ad5ef27ece6  Sat Nov 21 15:19:51 +0000 2020  []       0      0         https://twitter.com/i/web/status/1330169056205344774\n",
      "11  RT @4402f91f-b4a5-588c-acf0-e1437a824ba2: the number of people on ventilators has doubled in the last 3 weeks. the covid you give your nana at thanksgiving will…                                 152e4d5a-10b2-5523-834d-d2e3def1f182  Sat Nov 21 15:19:51 +0000 2020  []       0      0         https://twitter.com/i/web/status/1330169057010741256\n",
      "12  RT @449c3e59-378b-5ad9-a23c-aa40366d9f48: 31 year old lady in neighbour passed away due to Covid , she was perfect on Diwali day ! \\n\\nLife is so so uncertain.                                   502ae538-77d1-5b97-99fd-4e0499ad8e71  Sat Nov 21 15:19:51 +0000 2020  []       0      0         https://twitter.com/i/web/status/1330169057748922374\n",
      "13  RT @3596836f-bea8-587d-ab88-04cff8966988: Please watch.   This is a Raiders player who has test negative for Covid daily.   He got a call from Nevada Health Dept that…                           0c265791-aaca-50d1-86ae-ffdecba62bad  Sat Nov 21 15:19:51 +0000 2020  []       3053   1494      https://twitter.com/i/web/status/1330169057937674240\n",
      "14  Knowing a little biology is all you need to appreciate just how unsettling this COVID vaccine is. We’re fighting a… https://t.co/gQ79xwvi2O                                                       79a039d6-208b-5d3a-8081-6544e5cd0045  Sat Nov 21 15:19:51 +0000 2020  []       0      0         https://twitter.com/i/web/status/1330169058294194179\n",
      "15  RT @f4352045-ea40-5341-bf67-056316e50bbf: SISTER DOROTHY COOPER, 88, of Lawrence, Massachusetts died of COVID on April 27.\\n\\n\"Sr. Dorothy was a Sister of Charity of…                            662f7a23-0e26-5665-a21d-a063c723084a  Sat Nov 21 15:19:51 +0000 2020  []       0      0         https://twitter.com/i/web/status/1330169059657322496\n",
      "16  Hey, @f2f8b66c-5ef7-503b-8838-9836937be850, when this COVID nightmare is over, want to meet in Memphis (sorry, it’s a little bit shorter of… https://t.co/xtqgrnMXoQ                              7a5084c5-5a1d-5173-abf0-b11f32a822e5  Sat Nov 21 15:19:51 +0000 2020  []       0      0         https://twitter.com/i/web/status/1330169059711848451\n",
      "17  RT @c500f6b6-cec5-576b-98d0-6714c6f533ea: My dad died today in a nursing home. \\n\\nHe was tested for Covid 3 times over the last 3 weeks. \\n\\nHe was negative every tim…                          d0705422-d8a1-5a02-8213-bd34868bfa45  Sat Nov 21 15:19:51 +0000 2020  []       0      0         https://twitter.com/i/web/status/1330169060034826243\n",
      "18  RT @b988b797-bb71-5aee-bdb0-a3b5cba4a328: the 'Covid was a hoax to get Biden elected' is such a hilarious US-centric thing to think. like I lost my job, my flat…                                 2abcffce-a8df-5615-a7dc-98dfb656a469  Sat Nov 21 15:19:51 +0000 2020  []       0      0         https://twitter.com/i/web/status/1330169060257124357\n",
      "19  RT @b988b797-bb71-5aee-bdb0-a3b5cba4a328: the 'Covid was a hoax to get Biden elected' is such a hilarious US-centric thing to think. like I lost my job, my flat…                                 edfa63ff-721d-562a-9159-6bc9f028f03a  Sat Nov 21 15:19:52 +0000 2020  []       0      0         https://twitter.com/i/web/status/1330169061800554502\n",
      "Total time to find the tweets: 0.03 seconds.\n"
     ]
    }
   ],
   "source": [
    "######Imports required\n",
    "from utils import *\n",
    "\n",
    "# input path\n",
    "PATH = 'data'\n",
    "\n",
    "start_time = time.time()\n",
    "\n",
    "# preprocess the files in PATH (see utils.py)\n",
    "df_tweets_simp = preprocess(PATH)\n",
    "\n",
    "\n",
    "print(\"Total time to preprocess dataset of {} tweets: {} seconds.\" .format(len(df_tweets_simp),np.round(time.time() - start_time,2)))\n",
    "\n",
    "start_time = time.time()\n",
    "print(\"\\n======================\\nCreating index...\")\n",
    "numTweets = len(df_tweets_simp)\n",
    "myIndex, df, idf = create_index_tfidf(df_tweets_simp,numTweets) # create index, df and idf (see utils.py)\n",
    "print(\"Total time to create the index: {} seconds.\" .format(np.round(time.time() - start_time,2)))\n",
    "       \n",
    "del df # delete df to free space\n",
    "\n",
    "top = 20\n",
    "\n",
    "submit_new_query = 'y'\n",
    "result_tweets, myQuery = submit_search(top, myIndex, df_tweets_simp) # submit search and get results (utils.py)\n"
   ]
  },
  {
   "cell_type": "code",
   "execution_count": null,
   "metadata": {},
   "outputs": [],
   "source": []
  },
  {
   "cell_type": "code",
   "execution_count": 3,
   "metadata": {},
   "outputs": [
    {
     "name": "stdout",
     "output_type": "stream",
     "text": [
      "\n",
      "======================\n",
      "Available ranking methods:\n",
      "\n",
      "  1. Ranking based on TF-IDF.\n",
      "  2. Ranking based on popularity.\n",
      "\n",
      "Insert the number of the preferred ranking method:\n",
      "\n",
      "2\n",
      "\n",
      "======================\n",
      "Top 20 of 20304 matches using popularity_rank:\n",
      "\n",
      "                                                                                                                                                                                         text                                  user                            date        hashtags    likes  retweets                                                   url     score\n",
      "0   RT @450f35ba-35eb-5917-ae8a-56db5609a121: This was one of my favorite ever stories on this app. Sadly, the \"grandpa\" passed away this year, due to Covid.                                  885d50ac-292f-5aa8-944a-e78a994eb07a  Sat Nov 21 15:07:43 +0000 2020  []              1838999  205914    https://twitter.com/i/web/status/1330166004840796160  0.079045\n",
      "1   Yall still trust and eat other ppl’s cooking during COVID? \\n\\nBrave souls you are..                                                                                                       5554af01-8d9a-5832-9482-e94ba07ea50d  Sat Nov 21 15:18:43 +0000 2020  []              853765   63502     https://twitter.com/i/web/status/1330168773282828297  0.013602\n",
      "2   I can’t go home for Thanksgiving because of covid and I wish I had someone like this in my life                                                                                            5afff6c3-1fab-5bf5-b9bf-8bc6b555e816  Sat Nov 21 15:16:50 +0000 2020  []              852995   63444     https://twitter.com/i/web/status/1330168298848317440  0.013577\n",
      "3   RT @3f6ad6b3-e064-5a49-b023-5f6eeadecd0c: They are using Covid to crash western economies and implement communist policies. \\n\\nThat’s what’s going on.                                    6855736f-70e9-5dda-bdd8-bf15965f7c98  Sat Nov 21 16:03:39 +0000 2020  []              482208   126922    https://twitter.com/i/web/status/1330180079620681729  0.013297\n",
      "4   ex: COVID                                                                                                                                                                                  bcfdfc28-58ad-5fe3-a1b5-ae6c218cd626  Sat Nov 21 14:29:45 +0000 2020  []              283202   87087     https://twitter.com/i/web/status/1330156450547707906  0.013126\n",
      "5   RT @99175723-0316-551e-82e7-9f73f5dacb30: Congratulations @a681cf9f-b27d-530b-878c-d216518ba80c on your positive test for Covid\\n\\nHow did mocking people wearing masks work out for you…  65099585-9379-5aad-a563-fe14e2a31447  Sat Nov 21 14:34:08 +0000 2020  []              453625   113627    https://twitter.com/i/web/status/1330157553095991296  0.011697\n",
      "6   The “Covid is a hoax” theories are mind boggling.                                                                                                                                          f2a0b4ce-da07-599f-95f4-d6aa63c14b1b  Sat Nov 21 14:52:19 +0000 2020  []              296041   34189     https://twitter.com/i/web/status/1330162127374610436  0.003407\n",
      "7   Those same idiots said “covid will disappear after the election” when #wellactually over 2k are dying daily....supe… https://t.co/yaRxrTnf4X                                               62e7337c-9616-5a79-802c-0e8a3af5bfe3  Sat Nov 21 16:06:57 +0000 2020  [wellactually]  317482   36485     https://twitter.com/i/web/status/1330180911074336769  0.002757\n",
      "8   me and all my friends when covid's over                                                                                                                                                    19b62eea-1b18-5f34-a488-7171d0fc7c20  Sat Nov 21 15:06:36 +0000 2020  []              108272   47366     https://twitter.com/i/web/status/1330165725873442824  0.002729\n",
      "9   BITCH NO HUGGIN anybody ITS COVID time rn                                                                                                                                                  ff75e5bc-d916-5f4d-9776-30436b8e3935  Sat Nov 21 15:51:39 +0000 2020  []              192564   39378     https://twitter.com/i/web/status/1330177062607458306  0.002330\n",
      "10  me, a month and a half after my first covid vaccine, flying facefirst into a drummania cab                                                                                                 39630971-4e03-586f-9216-de25b9da73fe  Sat Nov 21 15:36:46 +0000 2020  []              223945   40871     https://twitter.com/i/web/status/1330173316049604609  0.002296\n",
      "11  He literally has covid.                                                                                                                                                                    38ec03a9-5d33-5aed-ba83-4fc8899a3bed  Sat Nov 21 15:36:59 +0000 2020  []              208236   18904     https://twitter.com/i/web/status/1330173368327352320  0.002095\n",
      "12  I guess since operation “Warp Speed” was such a success to end Covid, Joe’s priorities have moved on.                                                                                      108f3068-7af6-5bd9-86e9-445efc53b1c5  Sat Nov 21 14:43:12 +0000 2020  []              273507   33099     https://twitter.com/i/web/status/1330159835967610883  0.002054\n",
      "13  people really dying &amp; losing family from Covid &amp; y’all really want to come up with conspiracies?? stop with the jok… https://t.co/7P748nMwOr                                       d70ef1eb-2b08-5027-aa3d-2e8fc581d901  Sat Nov 21 14:53:32 +0000 2020  []              296390   34222     https://twitter.com/i/web/status/1330162434288603140  0.001707\n",
      "14  RT @52fe282a-cdb8-564f-8e23-3f4eadd67904: So he is covid                                                                                                                                   8363473f-45c3-5d18-b607-a9189fe71aa4  Sat Nov 21 16:21:29 +0000 2020  []              125264   23983     https://twitter.com/i/web/status/1330184566875828229  0.001599\n",
      "15  RT @52fe282a-cdb8-564f-8e23-3f4eadd67904: So he is covid                                                                                                                                   2d33104f-43f9-5aa5-b314-2aeef48594e5  Sat Nov 21 15:18:47 +0000 2020  []              124875   23930     https://twitter.com/i/web/status/1330168789066014721  0.001590\n",
      "16  RT @52fe282a-cdb8-564f-8e23-3f4eadd67904: So he is covid                                                                                                                                   52dab95b-de72-53b8-8f25-ddd0f87806dc  Sat Nov 21 15:16:35 +0000 2020  []              124864   23929     https://twitter.com/i/web/status/1330168235052953602  0.001590\n",
      "17  These people literally want everyone who is going to die from Covid to just go ahead and get on with it and die...… https://t.co/MhptyCB56R                                                4ffd443e-dd23-5147-8bdc-c7efed7e3a51  Sat Nov 21 15:09:50 +0000 2020  []              187221   38348     https://twitter.com/i/web/status/1330166538125586434  0.001351\n",
      "18  RT @47af3eb1-86dc-5541-9763-07c1eae72de9: COVID: https://t.co/rpCrIS9diV                                                                                                                   48f37948-d4af-563f-966b-0242c88cf611  Sat Nov 21 15:57:43 +0000 2020  []              108011   26693     https://twitter.com/i/web/status/1330178586582667270  0.001253\n",
      "19  RT @47af3eb1-86dc-5541-9763-07c1eae72de9: COVID: https://t.co/rpCrIS9diV                                                                                                                   2c46378e-763e-56bd-9c1e-fb6ac7a02ff9  Sat Nov 21 15:13:32 +0000 2020  []              107996   26694     https://twitter.com/i/web/status/1330167467000389632  0.001253\n",
      "Total time to rank the tweets: 10.7 seconds.\n"
     ]
    }
   ],
   "source": [
    "rank(top, result_tweets, myIndex, idf, myQuery) # rank results (see utils.py, it allows the user to choose the method)"
   ]
  },
  {
   "cell_type": "code",
   "execution_count": null,
   "metadata": {},
   "outputs": [],
   "source": [
    "la.norm(list(collections.Counter(result_tweets[result_tweets['id']==1330169053298700291]['terms'].to_list().pop()).values()))"
   ]
  },
  {
   "cell_type": "code",
   "execution_count": null,
   "metadata": {},
   "outputs": [],
   "source": []
  }
 ],
 "metadata": {
  "kernelspec": {
   "display_name": "Python 3",
   "language": "python",
   "name": "python3"
  },
  "language_info": {
   "codemirror_mode": {
    "name": "ipython",
    "version": 3
   },
   "file_extension": ".py",
   "mimetype": "text/x-python",
   "name": "python",
   "nbconvert_exporter": "python",
   "pygments_lexer": "ipython3",
   "version": "3.7.4"
  }
 },
 "nbformat": 4,
 "nbformat_minor": 2
}
